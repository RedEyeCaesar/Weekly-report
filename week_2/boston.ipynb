{
 "cells": [
  {
   "cell_type": "code",
   "execution_count": 29,
   "id": "9a901f25",
   "metadata": {},
   "outputs": [
    {
     "name": "stdout",
     "output_type": "stream",
     "text": [
      "        CRIM    ZN  INDUS  CHAS    NOX     RM   AGE     DIS  RAD    TAX  \\\n",
      "0    0.00632  18.0   2.31   0.0  0.538  6.575  65.2  4.0900  1.0  296.0   \n",
      "1    0.02731   0.0   7.07   0.0  0.469  6.421  78.9  4.9671  2.0  242.0   \n",
      "2    0.02729   0.0   7.07   0.0  0.469  7.185  61.1  4.9671  2.0  242.0   \n",
      "3    0.03237   0.0   2.18   0.0  0.458  6.998  45.8  6.0622  3.0  222.0   \n",
      "4    0.06905   0.0   2.18   0.0  0.458  7.147  54.2  6.0622  3.0  222.0   \n",
      "..       ...   ...    ...   ...    ...    ...   ...     ...  ...    ...   \n",
      "501  0.06263   0.0  11.93   0.0  0.573  6.593  69.1  2.4786  1.0  273.0   \n",
      "502  0.04527   0.0  11.93   0.0  0.573  6.120  76.7  2.2875  1.0  273.0   \n",
      "503  0.06076   0.0  11.93   0.0  0.573  6.976  91.0  2.1675  1.0  273.0   \n",
      "504  0.10959   0.0  11.93   0.0  0.573  6.794  89.3  2.3889  1.0  273.0   \n",
      "505  0.04741   0.0  11.93   0.0  0.573  6.030  80.8  2.5050  1.0  273.0   \n",
      "\n",
      "     PTRATIO       B  LSTAT  \n",
      "0       15.3  396.90   4.98  \n",
      "1       17.8  396.90   9.14  \n",
      "2       17.8  392.83   4.03  \n",
      "3       18.7  394.63   2.94  \n",
      "4       18.7  396.90   5.33  \n",
      "..       ...     ...    ...  \n",
      "501     21.0  391.99   9.67  \n",
      "502     21.0  396.90   9.08  \n",
      "503     21.0  396.90   5.64  \n",
      "504     21.0  393.45   6.48  \n",
      "505     21.0  396.90   7.88  \n",
      "\n",
      "[506 rows x 13 columns]\n"
     ]
    }
   ],
   "source": [
    "from sklearn import datasets \n",
    "import pandas as pd \n",
    "import numpy as np\n",
    "import matplotlib.pyplot as plt\n",
    "#导入数据\n",
    "boston = datasets.load_boston()\n",
    "data =pd.DataFrame(data=boston.data,columns=boston.feature_names)\n",
    "#查看所有数据\n",
    "print(data)"
   ]
  },
  {
   "cell_type": "code",
   "execution_count": 5,
   "id": "74bdce91",
   "metadata": {},
   "outputs": [],
   "source": [
    "#保存数据\n",
    "data.to_csv('./boston.csv', index=None)\n"
   ]
  },
  {
   "cell_type": "code",
   "execution_count": 11,
   "id": "0ff24fb0",
   "metadata": {},
   "outputs": [
    {
     "data": {
      "text/html": [
       "<div>\n",
       "<style scoped>\n",
       "    .dataframe tbody tr th:only-of-type {\n",
       "        vertical-align: middle;\n",
       "    }\n",
       "\n",
       "    .dataframe tbody tr th {\n",
       "        vertical-align: top;\n",
       "    }\n",
       "\n",
       "    .dataframe thead th {\n",
       "        text-align: right;\n",
       "    }\n",
       "</style>\n",
       "<table border=\"1\" class=\"dataframe\">\n",
       "  <thead>\n",
       "    <tr style=\"text-align: right;\">\n",
       "      <th></th>\n",
       "      <th>CRIM</th>\n",
       "      <th>ZN</th>\n",
       "      <th>INDUS</th>\n",
       "      <th>CHAS</th>\n",
       "      <th>NOX</th>\n",
       "      <th>RM</th>\n",
       "      <th>AGE</th>\n",
       "      <th>DIS</th>\n",
       "      <th>RAD</th>\n",
       "      <th>TAX</th>\n",
       "      <th>PTRATIO</th>\n",
       "      <th>B</th>\n",
       "      <th>LSTAT</th>\n",
       "    </tr>\n",
       "  </thead>\n",
       "  <tbody>\n",
       "  </tbody>\n",
       "</table>\n",
       "</div>"
      ],
      "text/plain": [
       "Empty DataFrame\n",
       "Columns: [CRIM, ZN, INDUS, CHAS, NOX, RM, AGE, DIS, RAD, TAX, PTRATIO, B, LSTAT]\n",
       "Index: []"
      ]
     },
     "execution_count": 11,
     "metadata": {},
     "output_type": "execute_result"
    }
   ],
   "source": [
    "#进行数据预处理\n",
    "#按照第一列进行排序\n",
    "data.sort_values(by=['CRIM'], ascending=False,inplace=True) \n",
    "\n",
    "#筛选出任何含有缺失值的数据\n",
    "data[data.isnull().values==True]\n"
   ]
  },
  {
   "cell_type": "code",
   "execution_count": 12,
   "id": "161cf7a4",
   "metadata": {},
   "outputs": [
    {
     "data": {
      "text/plain": [
       "False    506\n",
       "Name: CRIM, dtype: int64"
      ]
     },
     "execution_count": 12,
     "metadata": {},
     "output_type": "execute_result"
    }
   ],
   "source": [
    "#统计CRIM列缺失值的数量\n",
    "data['CRIM'].isnull().value_counts()"
   ]
  },
  {
   "cell_type": "code",
   "execution_count": 13,
   "id": "0b4f105f",
   "metadata": {},
   "outputs": [
    {
     "data": {
      "text/html": [
       "<div>\n",
       "<style scoped>\n",
       "    .dataframe tbody tr th:only-of-type {\n",
       "        vertical-align: middle;\n",
       "    }\n",
       "\n",
       "    .dataframe tbody tr th {\n",
       "        vertical-align: top;\n",
       "    }\n",
       "\n",
       "    .dataframe thead th {\n",
       "        text-align: right;\n",
       "    }\n",
       "</style>\n",
       "<table border=\"1\" class=\"dataframe\">\n",
       "  <thead>\n",
       "    <tr style=\"text-align: right;\">\n",
       "      <th></th>\n",
       "      <th>CRIM</th>\n",
       "      <th>ZN</th>\n",
       "      <th>INDUS</th>\n",
       "      <th>CHAS</th>\n",
       "      <th>NOX</th>\n",
       "      <th>RM</th>\n",
       "      <th>AGE</th>\n",
       "      <th>DIS</th>\n",
       "      <th>RAD</th>\n",
       "      <th>TAX</th>\n",
       "      <th>PTRATIO</th>\n",
       "      <th>B</th>\n",
       "      <th>LSTAT</th>\n",
       "    </tr>\n",
       "  </thead>\n",
       "  <tbody>\n",
       "  </tbody>\n",
       "</table>\n",
       "</div>"
      ],
      "text/plain": [
       "Empty DataFrame\n",
       "Columns: [CRIM, ZN, INDUS, CHAS, NOX, RM, AGE, DIS, RAD, TAX, PTRATIO, B, LSTAT]\n",
       "Index: []"
      ]
     },
     "execution_count": 13,
     "metadata": {},
     "output_type": "execute_result"
    }
   ],
   "source": [
    "#筛选出CRIM列含有缺失值的数据\n",
    "data[data['CRIM'].isnull().values==True]"
   ]
  },
  {
   "cell_type": "code",
   "execution_count": 17,
   "id": "6bcc643d",
   "metadata": {},
   "outputs": [],
   "source": [
    "#插入一列three_sigma又来表示是否是异常值\n",
    "data['three_sigma'] = data['CRIM'].transform( lambda x: (x.mean()-3*x.std()>x)|(x.mean()+3*x.std()<x))\n",
    "\n",
    "#筛选出目标变量的异常值\n",
    "data[data['three_sigma']==True]\n",
    "\n",
    "#保留正常的数据\n",
    "correct_data=data[data['three_sigma']==False]\n"
   ]
  },
  {
   "cell_type": "code",
   "execution_count": 23,
   "id": "45dc4b40",
   "metadata": {},
   "outputs": [
    {
     "data": {
      "text/html": [
       "<div>\n",
       "<style scoped>\n",
       "    .dataframe tbody tr th:only-of-type {\n",
       "        vertical-align: middle;\n",
       "    }\n",
       "\n",
       "    .dataframe tbody tr th {\n",
       "        vertical-align: top;\n",
       "    }\n",
       "\n",
       "    .dataframe thead th {\n",
       "        text-align: right;\n",
       "    }\n",
       "</style>\n",
       "<table border=\"1\" class=\"dataframe\">\n",
       "  <thead>\n",
       "    <tr style=\"text-align: right;\">\n",
       "      <th></th>\n",
       "      <th>0</th>\n",
       "    </tr>\n",
       "  </thead>\n",
       "  <tbody>\n",
       "    <tr>\n",
       "      <th>mean</th>\n",
       "      <td>3.795043</td>\n",
       "    </tr>\n",
       "    <tr>\n",
       "      <th>median</th>\n",
       "      <td>3.20745</td>\n",
       "    </tr>\n",
       "    <tr>\n",
       "      <th>mode</th>\n",
       "      <td>0    3.4952\n",
       "dtype: float64</td>\n",
       "    </tr>\n",
       "    <tr>\n",
       "      <th>Q1</th>\n",
       "      <td>2.100175</td>\n",
       "    </tr>\n",
       "    <tr>\n",
       "      <th>Q3</th>\n",
       "      <td>5.188425</td>\n",
       "    </tr>\n",
       "  </tbody>\n",
       "</table>\n",
       "</div>"
      ],
      "text/plain": [
       "                                 0\n",
       "mean                      3.795043\n",
       "median                     3.20745\n",
       "mode    0    3.4952\n",
       "dtype: float64\n",
       "Q1                        2.100175\n",
       "Q3                        5.188425"
      ]
     },
     "execution_count": 23,
     "metadata": {},
     "output_type": "execute_result"
    }
   ],
   "source": [
    "#进行数据分析\n",
    "#通过定义一个函数，来查看数据的集中趋势\n",
    "def f(x):\n",
    "    return pd.DataFrame([x.mean(),x.median(),x.mode(),x.quantile(0.25),x.quantile(0.75)],\n",
    "    index=['mean','median','mode','Q1','Q3'])\n",
    "\n",
    "#调用函数\n",
    "f(data['DIS'])\n"
   ]
  },
  {
   "cell_type": "code",
   "execution_count": 26,
   "id": "4e1e7c0f",
   "metadata": {},
   "outputs": [
    {
     "data": {
      "text/html": [
       "<div>\n",
       "<style scoped>\n",
       "    .dataframe tbody tr th:only-of-type {\n",
       "        vertical-align: middle;\n",
       "    }\n",
       "\n",
       "    .dataframe tbody tr th {\n",
       "        vertical-align: top;\n",
       "    }\n",
       "\n",
       "    .dataframe thead th {\n",
       "        text-align: right;\n",
       "    }\n",
       "</style>\n",
       "<table border=\"1\" class=\"dataframe\">\n",
       "  <thead>\n",
       "    <tr style=\"text-align: right;\">\n",
       "      <th></th>\n",
       "      <th>0</th>\n",
       "    </tr>\n",
       "  </thead>\n",
       "  <tbody>\n",
       "    <tr>\n",
       "      <th>skew</th>\n",
       "      <td>5.223149</td>\n",
       "    </tr>\n",
       "    <tr>\n",
       "      <th>kurt</th>\n",
       "      <td>37.130509</td>\n",
       "    </tr>\n",
       "  </tbody>\n",
       "</table>\n",
       "</div>"
      ],
      "text/plain": [
       "              0\n",
       "skew   5.223149\n",
       "kurt  37.130509"
      ]
     },
     "execution_count": 26,
     "metadata": {},
     "output_type": "execute_result"
    }
   ],
   "source": [
    "#定义一个函数，来查看数据的分布\n",
    "def g(x):\n",
    "    return pd.DataFrame([x.skew(),x.kurt()],\n",
    "                        index=['skew','kurt'])\n",
    "\n",
    "#调用函数\n",
    "g(data['CRIM'])"
   ]
  },
  {
   "cell_type": "code",
   "execution_count": 30,
   "id": "b816e38e",
   "metadata": {},
   "outputs": [
    {
     "name": "stdout",
     "output_type": "stream",
     "text": [
      "         count        mean         std        min         25%        50%  \\\n",
      "CRIM     506.0    3.613524    8.601545    0.00632    0.082045    0.25651   \n",
      "ZN       506.0   11.363636   23.322453    0.00000    0.000000    0.00000   \n",
      "INDUS    506.0   11.136779    6.860353    0.46000    5.190000    9.69000   \n",
      "CHAS     506.0    0.069170    0.253994    0.00000    0.000000    0.00000   \n",
      "NOX      506.0    0.554695    0.115878    0.38500    0.449000    0.53800   \n",
      "RM       506.0    6.284634    0.702617    3.56100    5.885500    6.20850   \n",
      "AGE      506.0   68.574901   28.148861    2.90000   45.025000   77.50000   \n",
      "DIS      506.0    3.795043    2.105710    1.12960    2.100175    3.20745   \n",
      "RAD      506.0    9.549407    8.707259    1.00000    4.000000    5.00000   \n",
      "TAX      506.0  408.237154  168.537116  187.00000  279.000000  330.00000   \n",
      "PTRATIO  506.0   18.455534    2.164946   12.60000   17.400000   19.05000   \n",
      "B        506.0  356.674032   91.294864    0.32000  375.377500  391.44000   \n",
      "LSTAT    506.0   12.653063    7.141062    1.73000    6.950000   11.36000   \n",
      "\n",
      "                75%       max  \n",
      "CRIM       3.677083   88.9762  \n",
      "ZN        12.500000  100.0000  \n",
      "INDUS     18.100000   27.7400  \n",
      "CHAS       0.000000    1.0000  \n",
      "NOX        0.624000    0.8710  \n",
      "RM         6.623500    8.7800  \n",
      "AGE       94.075000  100.0000  \n",
      "DIS        5.188425   12.1265  \n",
      "RAD       24.000000   24.0000  \n",
      "TAX      666.000000  711.0000  \n",
      "PTRATIO   20.200000   22.0000  \n",
      "B        396.225000  396.9000  \n",
      "LSTAT     16.955000   37.9700  \n"
     ]
    }
   ],
   "source": [
    "# 描述性统计分析\n",
    "describe = data.describe().T\n",
    "print(describe)\n"
   ]
  },
  {
   "cell_type": "code",
   "execution_count": 33,
   "id": "a2c46690",
   "metadata": {},
   "outputs": [
    {
     "data": {
      "image/png": "[encoded data removed]",
      "text/plain": [
       "<Figure size 432x288 with 1 Axes>"
      ]
     },
     "metadata": {
      "needs_background": "light"
     },
     "output_type": "display_data"
    }
   ],
   "source": [
    "def drawing(x,y,xlabel):\n",
    "    plt.scatter(x,y)\n",
    "    plt.title('%s - distance'% xlabel)\n",
    "    plt.xlabel(xlabel)\n",
    "    plt.ylabel('distance')\n",
    "    plt.yticks(range(0,60,5))\n",
    "    plt.grid()\n",
    "    plt.show()\n",
    "\n",
    "# 绘制变量CRIM和因变量的散点图\n",
    "drawing(data['CRIM'],data['DIS'],'Urban Per Crime Rate')\n"
   ]
  },
  {
   "cell_type": "code",
   "execution_count": null,
   "id": "1728ccd1",
   "metadata": {},
   "outputs": [],
   "source": []
  }
 ],
 "metadata": {
  "kernelspec": {
   "display_name": "Python 3 (ipykernel)",
   "language": "python",
   "name": "python3"
  },
  "language_info": {
   "codemirror_mode": {
    "name": "ipython",
    "version": 3
   },
   "file_extension": ".py",
   "mimetype": "text/x-python",
   "name": "python",
   "nbconvert_exporter": "python",
   "pygments_lexer": "ipython3",
   "version": "3.9.7"
  }
 },
 "nbformat": 4,
 "nbformat_minor": 5
}
